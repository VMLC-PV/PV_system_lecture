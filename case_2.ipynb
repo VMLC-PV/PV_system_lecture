{
 "cells": [
  {
   "attachments": {},
   "cell_type": "markdown",
   "metadata": {},
   "source": [
    "## Run SimSS simulations and plot the results\n",
    "Version 0.1\n",
    "(c) Vincent M. Le Corre (https://github.com/VMLC-PV)"
   ]
  },
  {
   "cell_type": "code",
   "execution_count": null,
   "metadata": {},
   "outputs": [],
   "source": [
    "# Package import\n",
    "# %matplotlib inline\n",
    "# %matplotlib widget\n",
    "# %matplotlib notebook\n",
    "# comment the above line if you don't want interactive plots\n",
    "import os,platform,warnings\n",
    "import numpy as np\n",
    "import pandas as pd\n",
    "from scipy.stats import loguniform\n",
    "import matplotlib.pyplot as plt\n",
    "# Import homemade package by VLC\n",
    "# from SIMsalabim_utils.RunSim import PrepareSimuInputs, RunSimulation # Run simulation\n",
    "# from SIMsalabim_utils.SimSS_plots import PlotJV, PlotJVPerf,PlotNrjDiagSimSS,PlotDensSimSS # Plotting functions\n",
    "# from SIMsalabim_utils.CleanFolder import clean_up_output, clean_file_type # Cleaning functions\n",
    "# from SIMsalabim_utils import plot_settings_screen # Plot settings\n",
    "from boar import *\n",
    "from boar.SIMsalabim_utils.SimSS_plots import *\n",
    "from boar.SIMsalabim_utils.aux_func import *\n",
    "## General Inputs\n",
    "warnings.filterwarnings(\"ignore\")           # Don't show warnings\n",
    "\n",
    "max_jobs = 100\n",
    "number_students = 30\n",
    "# Path to SIMsalabim\n",
    "curr_dir = os.path.abspath(os.getcwd())\n",
    "path2simu = os.path.join(curr_dir ,'SIMsalabim','SimSS')\n",
    "path2dev = os.path.join(curr_dir,'Example_Data','Data_test','device_parameters_fake_OPV.txt')"
   ]
  },
  {
   "cell_type": "code",
   "execution_count": null,
   "metadata": {},
   "outputs": [],
   "source": [
    "case = 'Case_2'\n",
    "mu_min = 5e-9\n",
    "mu_max = 5e-7\n",
    "kdirect_min = 1e-18\n",
    "kdirect_max = 1e-15\n",
    "Gehp_min = 1.25e28\n",
    "Gehp_max = 1.3e28"
   ]
  },
  {
   "cell_type": "code",
   "execution_count": null,
   "metadata": {},
   "outputs": [],
   "source": [
    "# Prepare the command strings to run\n",
    "fixed_str = path2dev+ ' '\n",
    "parameters = []\n",
    "Gehp = list(loguniform.rvs(Gehp_min,Gehp_max,size=number_students))\n",
    "parameters.append({'name':'Gehp','values':Gehp})\n",
    "mun_0= list(loguniform.rvs(mu_min,mu_max,size=number_students))\n",
    "parameters.append({'name':'mun_0','values':mun_0})\n",
    "mup_0= list(loguniform.rvs(mu_min,mu_max,size=number_students))\n",
    "parameters.append({'name':'mup_0','values':mup_0})\n",
    "kdirect= list(loguniform.rvs(kdirect_min,kdirect_max,size=number_students))\n",
    "parameters.append({'name':'kdirect','values':kdirect})\n",
    "\n",
    "Simulation_Inputs = DegradationPrepareSimuInputs(path2simu,parameters=parameters,fixed_str=fixed_str,CodeName = 'SimSS',verbose=True) # creates all necessary list inputs\n",
    "\n",
    "RunSimulation(Simulation_Inputs,max_jobs=max_jobs,do_multiprocessing=True,verbose=False) # runs the simulations\n"
   ]
  },
  {
   "cell_type": "code",
   "execution_count": null,
   "metadata": {},
   "outputs": [],
   "source": [
    "# Make JV plots\n",
    "str_lst,JV_files,Var_files,scPars_files,code_name_lst,path_lst,labels = Simulation_Inputs\n",
    "colors = [] # prepare color for plots\n",
    "\n",
    "PlotJV(JV_files, labels=labels,colors=colors,num_fig=0,plot_type=0,x='Vext',y=['Jext'],legend=False,xlimits=[-0.5,1.1],ylimits=[-30,1e1],x_unit='V',y_unit='mA/cm^2',save_fig=True,fig_name=os.path.join(path2simu,'JV.png'),mark='',line_type = ['-'])\n"
   ]
  },
  {
   "cell_type": "code",
   "execution_count": null,
   "metadata": {},
   "outputs": [],
   "source": [
    "# Create a folder to store the results\n",
    "path2results = os.path.join(curr_dir,'Data_2_fit',case)\n",
    "if not os.path.exists(path2results):\n",
    "    os.mkdir(path2results)\n",
    "\n",
    "for idx,jv in enumerate(JV_files):\n",
    "    data = pd.read_csv(jv,delim_whitespace=True)\n",
    "\n",
    "    Jsc = get_Jsc(data['Vext'], data['Jext'])\n",
    "    \n",
    "    data = data[data['Jext'] < abs(Jsc)]\n",
    "\n",
    "    # only keep Vext > -0.1\n",
    "    data = data[data['Vext'] > -0.1]\n",
    "\n",
    "    #save only 'Vext' and 'Jext' columns to a new file\n",
    "    data[['Vext', 'Jext']].to_csv(os.path.join(path2results, case+f'_student_{idx+1}.txt'), sep=' ', index=False)\n",
    "\n"
   ]
  },
  {
   "cell_type": "code",
   "execution_count": null,
   "metadata": {},
   "outputs": [],
   "source": [
    "# saved simulated parameters in a file\n",
    "df = pd.DataFrame({'student':np.arange(1,number_students+1)})\n",
    "\n",
    "for idx,par in enumerate(parameters):\n",
    "    df[par['name']] = par['values']\n",
    "\n",
    "\n",
    "# save as excel file\n",
    "df.to_excel(os.path.join(curr_dir, case+'_parameters.xlsx'), index=False)\n",
    "\n"
   ]
  },
  {
   "cell_type": "code",
   "execution_count": null,
   "metadata": {},
   "outputs": [],
   "source": [
    "# make a copy of the device parameters file in case folder\n",
    "import shutil\n",
    "shutil.copy(path2dev, os.path.join(path2results, case+'_device_parameters.txt'))"
   ]
  },
  {
   "cell_type": "code",
   "execution_count": null,
   "metadata": {},
   "outputs": [],
   "source": [
    "# Clean output files from simulation folders\n",
    "Do_Cleaning = False # Careful, this will delete all files in the folder\n",
    "if Do_Cleaning:\n",
    "    clean_up_output('tj',path2simu)\n",
    "    clean_up_output('tVG',path2simu)\n",
    "    clean_up_output('JV',path2simu)\n",
    "    clean_up_output('Var',path2simu)\n",
    "    clean_up_output('scPars',path2simu)\n",
    "    clean_up_output('log',path2simu)\n",
    "    clean_up_output('Str4Parallel',path2simu)\n",
    "    clean_up_output('joblog',path2simu)\n",
    "    clean_file_type('.jpg',path2simu) # clean all jpg files\n",
    "    clean_file_type('.png',path2simu) # clean all png files\n",
    "    "
   ]
  }
 ],
 "metadata": {
  "kernelspec": {
   "display_name": "base",
   "language": "python",
   "name": "python3"
  },
  "language_info": {
   "codemirror_mode": {
    "name": "ipython",
    "version": 3
   },
   "file_extension": ".py",
   "mimetype": "text/x-python",
   "name": "python",
   "nbconvert_exporter": "python",
   "pygments_lexer": "ipython3",
   "version": "3.11.0"
  },
  "orig_nbformat": 4,
  "vscode": {
   "interpreter": {
    "hash": "ad2bdc8ecc057115af97d19610ffacc2b4e99fae6737bb82f5d7fb13d2f2c186"
   }
  }
 },
 "nbformat": 4,
 "nbformat_minor": 2
}
